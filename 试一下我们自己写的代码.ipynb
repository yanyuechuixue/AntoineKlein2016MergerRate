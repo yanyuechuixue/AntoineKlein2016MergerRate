{
 "cells": [
  {
   "cell_type": "code",
   "execution_count": 1,
   "metadata": {},
   "outputs": [
    {
     "name": "stdout",
     "output_type": "stream",
     "text": [
      "Populating the interactive namespace from numpy and matplotlib\n"
     ]
    }
   ],
   "source": [
    "%pylab inline\n",
    "%config Completer.use_jedi = False"
   ]
  },
  {
   "cell_type": "markdown",
   "metadata": {},
   "source": [
    "* Paper 10.1103/PhysRevD.93.024003"
   ]
  },
  {
   "cell_type": "code",
   "execution_count": 2,
   "metadata": {},
   "outputs": [],
   "source": [
    "from AntoineKlein2016MergerRate import EventsUniverse"
   ]
  },
  {
   "cell_type": "markdown",
   "metadata": {},
   "source": [
    "# redshift distribution"
   ]
  },
  {
   "cell_type": "code",
   "execution_count": 52,
   "metadata": {},
   "outputs": [],
   "source": [
    "def get_zs_for_model(model):\n",
    "    events = EventsUniverse(model=model,duration=49.99)\n",
    "    zs = []\n",
    "    for event_ in events:\n",
    "        zs.append(event_.pars['Redshift'])\n",
    "    zs = np.asarray(zs)\n",
    "    return zs"
   ]
  },
  {
   "cell_type": "code",
   "execution_count": 53,
   "metadata": {},
   "outputs": [
    {
     "data": {
      "text/plain": [
       "<matplotlib.legend.Legend at 0x7f9b9eccea30>"
      ]
     },
     "execution_count": 53,
     "metadata": {},
     "output_type": "execute_result"
    },
    {
     "data": {
      "image/png": "[encoded data removed]",
      "text/plain": [
       "<Figure size 432x288 with 1 Axes>"
      ]
     },
     "metadata": {
      "needs_background": "light"
     },
     "output_type": "display_data"
    }
   ],
   "source": [
    "for model in ['pop3', 'Q3_delays', 'Q3_nodelays']:\n",
    "    plt.hist(get_zs_for_model(model),bins=20,label=model,alpha=0.5);\n",
    "plt.legend()"
   ]
  },
  {
   "cell_type": "markdown",
   "metadata": {},
   "source": [
    "上图已经与文章中的图相同，注意上图的纵轴刻度要除以 50year\n",
    "文章中的图为：![](https://cdn.jsdelivr.net/gh/yanyuechuixue/ImageHost/img/20211014113355.png)"
   ]
  },
  {
   "cell_type": "code",
   "execution_count": null,
   "metadata": {},
   "outputs": [],
   "source": []
  },
  {
   "cell_type": "markdown",
   "metadata": {},
   "source": [
    "# Mass distribution (Total redshifted mass)"
   ]
  },
  {
   "cell_type": "code",
   "execution_count": 55,
   "metadata": {},
   "outputs": [
    {
     "name": "stdout",
     "output_type": "stream",
     "text": [
      "\tEclipticLatitude -0.3205036732051034 [Radian]\n",
      "\tEclipticLongitude 5.7973 [Radian]\n",
      "\tPolarAngleOfSpin1 0.14386 [Radian]\n",
      "\tPolarAngleOfSpin2 0.019326 [Radian]\n",
      "\tAzimuthalAngleOfSpin1 6.179965379581222 [Radian]\n",
      "\tAzimuthalAngleOfSpin2 3.2414510237777856 [Radian]\n",
      "\tSpin1 0.94658 [MassSquared]\n",
      "\tSpin2 0.46705 [MassSquared]\n",
      "\tMass1 3176.6923659999998 [SolarMass]\n",
      "\tMass2 3517.56407 [SolarMass]\n",
      "\tCoalescenceTime 9967056.356288606 [Second]\n",
      "\tPhaseAtCoalescence 1.9464692948727993 [Radian]\n",
      "\tInitialPolarAngleL 1.0103 [Radian]\n",
      "\tInitialAzimuthalAngleL 3.9308795477366223 [Radian]\n",
      "\tApproximant IMRPhenomD [ModelName]\n",
      "\tCadence 10 [Seconds]\n",
      "\tRedshift 9.9394 [dimensionless]\n",
      "\tDistance 105.27054696077263 [Gpc]\n",
      "\tObservationDuration 19934112.712577213 [Seconds]\n",
      "\tSourceType MBHB [name]\n",
      "\n"
     ]
    }
   ],
   "source": [
    "event0.display()"
   ]
  },
  {
   "cell_type": "code",
   "execution_count": 71,
   "metadata": {},
   "outputs": [],
   "source": [
    "def get_redshiftedTotMasses_for_model(model):\n",
    "    events = EventsUniverse(model=model,duration=49.9)\n",
    "    RedshiftedTotalMasses = []\n",
    "    for event_ in events:\n",
    "        RedshiftedTotalMasses.append((event_.pars['Mass1']+event_.pars['Mass2'])*(1+event_.pars['Redshift']))\n",
    "\n",
    "    RedshiftedTotalMasses = np.asarray(RedshiftedTotalMasses)\n",
    "    return RedshiftedTotalMasses"
   ]
  },
  {
   "cell_type": "code",
   "execution_count": 72,
   "metadata": {},
   "outputs": [
    {
     "data": {
      "image/png": "[encoded data removed]",
      "text/plain": [
       "<Figure size 432x288 with 1 Axes>"
      ]
     },
     "metadata": {
      "needs_background": "light"
     },
     "output_type": "display_data"
    }
   ],
   "source": [
    "for model in ['pop3', 'Q3_delays', 'Q3_nodelays']:\n",
    "    data = get_redshiftedTotMasses_for_model(model)\n",
    "    hist, bins = np.histogram(data, bins=20)\n",
    "    logbins = np.logspace(np.log10(bins[0]),np.log10(bins[-1]),len(bins))\n",
    "\n",
    "    plt.hist(data,bins=logbins,label=model,alpha=0.5,log=True);\n",
    "plt.legend()\n",
    "plt.xscale('log')"
   ]
  },
  {
   "cell_type": "markdown",
   "metadata": {},
   "source": [
    "上图已经与文章中的图**接近**相同，注意上图的纵轴刻度要除以 50year\n",
    "文章中的图为：![](https://cdn.jsdelivr.net/gh/yanyuechuixue/ImageHost/img/20211014114544.png)"
   ]
  },
  {
   "cell_type": "markdown",
   "metadata": {},
   "source": [
    "# 这里注意上面两个图对于 Q3_delays 并不是完全相同的，下面的图没有超过 10^8 solarmass 的事件"
   ]
  },
  {
   "cell_type": "code",
   "execution_count": null,
   "metadata": {},
   "outputs": [],
   "source": []
  }
 ],
 "metadata": {
  "kernelspec": {
   "display_name": "Python 3",
   "language": "python",
   "name": "python3"
  },
  "language_info": {
   "codemirror_mode": {
    "name": "ipython",
    "version": 3
   },
   "file_extension": ".py",
   "mimetype": "text/x-python",
   "name": "python",
   "nbconvert_exporter": "python",
   "pygments_lexer": "ipython3",
   "version": "3.8.5"
  }
 },
 "nbformat": 4,
 "nbformat_minor": 4
}
